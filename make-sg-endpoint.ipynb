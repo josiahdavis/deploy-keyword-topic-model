{
 "cells": [
  {
   "cell_type": "markdown",
   "metadata": {},
   "source": [
    "This jupyter notebook shows how to configure and deploy your own keyword-based topic model using the Amazon SageMaker service as a general, serverless, compute environment."
   ]
  },
  {
   "cell_type": "markdown",
   "metadata": {},
   "source": [
    "## Build and Push Container to ECS"
   ]
  },
  {
   "cell_type": "code",
   "execution_count": 1,
   "metadata": {},
   "outputs": [
    {
     "name": "stdout",
     "output_type": "stream",
     "text": [
      "WARNING! Using --password via the CLI is insecure. Use --password-stdin.\n",
      "Login Succeeded\n",
      "Sending build context to Docker daemon  128.5kB\n",
      "Step 1/10 : FROM ubuntu:16.04\n",
      " ---> 0b1edfbffd27\n",
      "Step 2/10 : MAINTAINER Amazon AI <sage-learner@amazon.com>\n",
      " ---> Using cache\n",
      " ---> 0b5849031ec8\n",
      "Step 3/10 : RUN apt-get -y update && apt-get install -y --no-install-recommends          wget          python3          nginx          ca-certificates     && rm -rf /var/lib/apt/lists/*\n",
      " ---> Using cache\n",
      " ---> 5411fbf3c61a\n",
      "Step 4/10 : RUN wget https://bootstrap.pypa.io/get-pip.py && python3 get-pip.py &&     pip install numpy scipy scikit-learn pandas flask gevent gunicorn &&         (cd /usr/local/lib/python3.5/dist-packages/scipy/.libs; rm *; ln ../../numpy/.libs/* .) &&         rm -rf /root/.cache\n",
      " ---> Using cache\n",
      " ---> 603e52b400a1\n",
      "Step 5/10 : ENV PYTHONUNBUFFERED=TRUE\n",
      " ---> Using cache\n",
      " ---> 2dbe0389fa1c\n",
      "Step 6/10 : ENV PYTHONDONTWRITEBYTECODE=TRUE\n",
      " ---> Using cache\n",
      " ---> 2a40daa24265\n",
      "Step 7/10 : ENV PATH=\"/opt/program:${PATH}\"\n",
      " ---> Using cache\n",
      " ---> 04e0e06b3d9d\n",
      "Step 8/10 : COPY topic-model /opt/program\n",
      " ---> Using cache\n",
      " ---> b44f5807ce2a\n",
      "Step 9/10 : WORKDIR /opt/program\n",
      " ---> Using cache\n",
      " ---> cb4646401277\n",
      "Step 10/10 : ENTRYPOINT [\"./serve\"]\n",
      " ---> Using cache\n",
      " ---> 1b467e29949e\n",
      "Successfully built 1b467e29949e\n",
      "Successfully tagged josiah-topic-model:latest\n",
      "The push refers to repository [216321755658.dkr.ecr.us-east-1.amazonaws.com/josiah-topic-model]\n",
      "\n",
      "\u001b[1Bddc088ee: Preparing \n",
      "\u001b[1B39bf5e66: Preparing \n",
      "\u001b[1Bdc50c8f6: Preparing \n",
      "\u001b[1B982208f5: Preparing \n",
      "\u001b[1B4cc1c2dd: Preparing \n",
      "\u001b[1B04adc8bd: Preparing \n",
      "\u001b[1B8dbf791d: Preparing \n",
      "\u001b[1B3ff3c3d3: Layer already exists \u001b[4A\u001b[1K\u001b[K\u001b[3A\u001b[1K\u001b[K\u001b[2A\u001b[1K\u001b[Klatest: digest: sha256:a5224ab31c354e22d9aaceb893e545a7cc4d65169684b111f9ebd4c7c1beb156 size: 1989\n"
     ]
    }
   ],
   "source": [
    "!bash build_and_push.sh josiah-topic-model"
   ]
  },
  {
   "cell_type": "markdown",
   "metadata": {},
   "source": [
    "## Create SageMaker Endpoint"
   ]
  },
  {
   "cell_type": "markdown",
   "metadata": {},
   "source": [
    "Copy and paste the ECS repository that you have just created. `<account number>.dkr.ecr.us-east-1.amazonaws.com/<image name>:latest`"
   ]
  },
  {
   "cell_type": "code",
   "execution_count": 2,
   "metadata": {
    "collapsed": true
   },
   "outputs": [],
   "source": [
    "import boto3\n",
    "sagemaker = boto3.client('sagemaker')\n",
    "\n",
    "name = 'topic-model'\n",
    "docker_image = '216321755658.dkr.ecr.us-east-1.amazonaws.com/josiah-topic-model:latest'\n",
    "iam_role = 'arn:aws:iam::216321755658:role/service-role/AmazonSageMaker-ExecutionRole-20171204T150334'"
   ]
  },
  {
   "cell_type": "code",
   "execution_count": 3,
   "metadata": {},
   "outputs": [
    {
     "data": {
      "text/plain": [
       "{'ModelArn': 'arn:aws:sagemaker:us-east-1:216321755658:model/topic-model',\n",
       " 'ResponseMetadata': {'HTTPHeaders': {'content-length': '73',\n",
       "   'content-type': 'application/x-amz-json-1.1',\n",
       "   'date': 'Fri, 26 Oct 2018 02:19:46 GMT',\n",
       "   'x-amzn-requestid': '48b4409c-c3e1-4517-8560-e543918a5584'},\n",
       "  'HTTPStatusCode': 200,\n",
       "  'RequestId': '48b4409c-c3e1-4517-8560-e543918a5584',\n",
       "  'RetryAttempts': 0}}"
      ]
     },
     "execution_count": 3,
     "metadata": {},
     "output_type": "execute_result"
    }
   ],
   "source": [
    "sagemaker.create_model(\n",
    "        ModelName=name, \n",
    "        PrimaryContainer={\n",
    "            'Image': docker_image\n",
    "        },\n",
    "        ExecutionRoleArn=iam_role\n",
    "        )"
   ]
  },
  {
   "cell_type": "code",
   "execution_count": 4,
   "metadata": {},
   "outputs": [
    {
     "data": {
      "text/plain": [
       "{'EndpointConfigArn': 'arn:aws:sagemaker:us-east-1:216321755658:endpoint-config/topic-model',\n",
       " 'ResponseMetadata': {'HTTPHeaders': {'content-length': '92',\n",
       "   'content-type': 'application/x-amz-json-1.1',\n",
       "   'date': 'Fri, 26 Oct 2018 02:19:48 GMT',\n",
       "   'x-amzn-requestid': 'd81f3712-3684-480c-9bcf-b53faa0c1d5e'},\n",
       "  'HTTPStatusCode': 200,\n",
       "  'RequestId': 'd81f3712-3684-480c-9bcf-b53faa0c1d5e',\n",
       "  'RetryAttempts': 0}}"
      ]
     },
     "execution_count": 4,
     "metadata": {},
     "output_type": "execute_result"
    }
   ],
   "source": [
    "sagemaker.create_endpoint_config(\n",
    "        EndpointConfigName=name,\n",
    "        ProductionVariants=[{\n",
    "            'InstanceType':'ml.m4.xlarge',\n",
    "            'InitialInstanceCount':1,\n",
    "            'ModelName':name,\n",
    "            'VariantName':'AllTraffic'}]\n",
    ")"
   ]
  },
  {
   "cell_type": "code",
   "execution_count": 5,
   "metadata": {},
   "outputs": [
    {
     "data": {
      "text/plain": [
       "{'EndpointArn': 'arn:aws:sagemaker:us-east-1:216321755658:endpoint/topic-model',\n",
       " 'ResponseMetadata': {'HTTPHeaders': {'content-length': '79',\n",
       "   'content-type': 'application/x-amz-json-1.1',\n",
       "   'date': 'Fri, 26 Oct 2018 02:19:50 GMT',\n",
       "   'x-amzn-requestid': 'a030279d-e186-4e81-b499-594705f389d9'},\n",
       "  'HTTPStatusCode': 200,\n",
       "  'RequestId': 'a030279d-e186-4e81-b499-594705f389d9',\n",
       "  'RetryAttempts': 0}}"
      ]
     },
     "execution_count": 5,
     "metadata": {},
     "output_type": "execute_result"
    }
   ],
   "source": [
    "sagemaker.create_endpoint(\n",
    "        EndpointName=name,\n",
    "        EndpointConfigName=name,\n",
    "        )"
   ]
  },
  {
   "cell_type": "markdown",
   "metadata": {},
   "source": [
    "## Check on Status of SageMaker Endpoint"
   ]
  },
  {
   "cell_type": "code",
   "execution_count": 12,
   "metadata": {},
   "outputs": [
    {
     "data": {
      "text/plain": [
       "'InService'"
      ]
     },
     "execution_count": 12,
     "metadata": {},
     "output_type": "execute_result"
    }
   ],
   "source": [
    "sagemaker.describe_endpoint(EndpointName=name)['EndpointStatus']"
   ]
  },
  {
   "cell_type": "markdown",
   "metadata": {},
   "source": [
    "## Send a sample payload"
   ]
  },
  {
   "cell_type": "code",
   "execution_count": 13,
   "metadata": {
    "collapsed": true
   },
   "outputs": [],
   "source": [
    "import pandas, boto3, io\n",
    "\n",
    "class TopicExtractor:\n",
    "    '''\n",
    "    Takes clean text documents in the form\n",
    "    of a numpy array and returns topics associated\n",
    "    with each document after calling an endpoint deployed using SageMaker.\n",
    "    \n",
    "    Arguments:\n",
    "        input_data: data with each document as a row in a numpy array\n",
    "        endpoint_name: name of the endpoint, as a string\n",
    "    '''\n",
    "    \n",
    "    def __init__(self, input_data, endpoint_name):\n",
    "        self.input_data = input_data\n",
    "        self.endpoint_name = endpoint_name\n",
    "        self.topics = None\n",
    "\n",
    "    def extract(self):\n",
    "        data_stream = io.StringIO()\n",
    "        pandas.DataFrame(self.input_data).to_csv(data_stream, header=None, index=None)\n",
    "        client = boto3.client('sagemaker-runtime')\n",
    "        response = client.invoke_endpoint(EndpointName=self.endpoint_name, Body=data_stream.getvalue(), ContentType='text/csv', Accept='Accept')\n",
    "        return(response['Body'].read().decode('ascii'))"
   ]
  },
  {
   "cell_type": "code",
   "execution_count": 14,
   "metadata": {},
   "outputs": [
    {
     "name": "stdout",
     "output_type": "stream",
     "text": [
      "Reservoir,Trap,Charge,Seal,Other,Topic\n",
      "0.0,1.0,0.0,0.0,0.0,Trap\n",
      "1.0,0.0,0.0,0.0,0.0,Reservoir\n",
      "0.0,0.0,1.0,0.0,0.0,Charge\n",
      "0.5,0.5,0.0,0.0,0.0,Reservoir\n",
      "0.0,0.0,0.0,1.0,0.0,Seal\n",
      "0.0,0.0,0.0,1.0,0.0,Seal\n",
      "0.0,1.0,0.0,0.0,0.0,Trap\n",
      "0.0,0.0,0.0,0.0,1.0,Other\n",
      "0.0,1.0,0.0,0.0,0.0,Trap\n",
      "0.5,0.0,0.0,0.5,0.0,Reservoir\n",
      "\n"
     ]
    }
   ],
   "source": [
    "a = pandas.read_csv('test_payload.csv', header=None).values\n",
    "tm = TopicExtractor(a, name)\n",
    "print(tm.extract())"
   ]
  },
  {
   "cell_type": "markdown",
   "metadata": {},
   "source": [
    "## Delete the SageMaker Model, Endpoint Config, Endpoint"
   ]
  },
  {
   "cell_type": "code",
   "execution_count": 15,
   "metadata": {},
   "outputs": [
    {
     "data": {
      "text/plain": [
       "{'ResponseMetadata': {'HTTPHeaders': {'content-length': '0',\n",
       "   'content-type': 'application/x-amz-json-1.1',\n",
       "   'date': 'Fri, 26 Oct 2018 02:25:00 GMT',\n",
       "   'x-amzn-requestid': 'd4ecb834-c432-4761-b125-a5edd446fe86'},\n",
       "  'HTTPStatusCode': 200,\n",
       "  'RequestId': 'd4ecb834-c432-4761-b125-a5edd446fe86',\n",
       "  'RetryAttempts': 0}}"
      ]
     },
     "execution_count": 15,
     "metadata": {},
     "output_type": "execute_result"
    }
   ],
   "source": [
    "sagemaker.delete_model(ModelName=name)\n",
    "sagemaker.delete_endpoint_config(EndpointConfigName=name)\n",
    "sagemaker.delete_endpoint(EndpointName=name)"
   ]
  }
 ],
 "metadata": {
  "kernelspec": {
   "display_name": "Python 3",
   "language": "python",
   "name": "python3"
  },
  "language_info": {
   "codemirror_mode": {
    "name": "ipython",
    "version": 3
   },
   "file_extension": ".py",
   "mimetype": "text/x-python",
   "name": "python",
   "nbconvert_exporter": "python",
   "pygments_lexer": "ipython3",
   "version": "3.6.1"
  }
 },
 "nbformat": 4,
 "nbformat_minor": 2
}
